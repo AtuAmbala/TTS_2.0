{
 "cells": [
  {
   "cell_type": "markdown",
   "metadata": {},
   "source": [
    "# Text Data"
   ]
  },
  {
   "cell_type": "code",
   "execution_count": 69,
   "metadata": {},
   "outputs": [],
   "source": [
    "import matplotlib.pyplot as plt\n",
    "import pandas as pd\n",
    "import numpy as np\n",
    "from sklearn.model_selection import train_test_split\n",
    "from sklearn.metrics import classification_report, confusion_matrix, accuracy_score\n",
    "\n",
    "#df = pd.read_csv(\"sna_pull_request_metrics.csv\")"
   ]
  },
  {
   "cell_type": "code",
   "execution_count": 70,
   "metadata": {},
   "outputs": [],
   "source": [
    "df1 = pd.read_csv(\"PR_audacity_combined.csv\")\n",
    "df2 = pd.read_csv(\"PR_jabref_combined.csv\")\n",
    "df3 = pd.read_csv(\"PR_powertoys_combined.csv\")"
   ]
  },
  {
   "cell_type": "code",
   "execution_count": 71,
   "metadata": {},
   "outputs": [],
   "source": [
    "df1['repo'] = 1\n",
    "df2['repo'] = 2\n",
    "df3['repo'] = 3\n",
    "\n",
    "#combine all the data\n",
    "df = pd.concat([df1, df2, df3])"
   ]
  },
  {
   "cell_type": "code",
   "execution_count": 85,
   "metadata": {},
   "outputs": [
    {
     "data": {
      "text/html": [
       "<div>\n",
       "<style scoped>\n",
       "    .dataframe tbody tr th:only-of-type {\n",
       "        vertical-align: middle;\n",
       "    }\n",
       "\n",
       "    .dataframe tbody tr th {\n",
       "        vertical-align: top;\n",
       "    }\n",
       "\n",
       "    .dataframe thead th {\n",
       "        text-align: right;\n",
       "    }\n",
       "</style>\n",
       "<table border=\"1\" class=\"dataframe\">\n",
       "  <thead>\n",
       "    <tr style=\"text-align: right;\">\n",
       "      <th></th>\n",
       "      <th>pr_number</th>\n",
       "      <th>created_at</th>\n",
       "      <th>merged_at</th>\n",
       "      <th>labels</th>\n",
       "      <th>issue_comments_text</th>\n",
       "      <th>review_comments_text</th>\n",
       "      <th>reviews_text</th>\n",
       "      <th>issue_text</th>\n",
       "      <th>repo</th>\n",
       "      <th>Issue_Lifetime(hours)</th>\n",
       "      <th>Issue Lifetime</th>\n",
       "    </tr>\n",
       "  </thead>\n",
       "  <tbody>\n",
       "    <tr>\n",
       "      <th>0</th>\n",
       "      <td>7308</td>\n",
       "      <td>2024-09-10 13:07:38</td>\n",
       "      <td>2024-09-10 13:49:46</td>\n",
       "      <td>[]</td>\n",
       "      <td>NaN</td>\n",
       "      <td>NaN</td>\n",
       "      <td>NaN</td>\n",
       "      <td>NaN</td>\n",
       "      <td>1</td>\n",
       "      <td>0.702222</td>\n",
       "      <td>1</td>\n",
       "    </tr>\n",
       "    <tr>\n",
       "      <th>1</th>\n",
       "      <td>7303</td>\n",
       "      <td>2024-09-10 12:15:27</td>\n",
       "      <td>2024-09-10 12:42:48</td>\n",
       "      <td>[]</td>\n",
       "      <td>NaN</td>\n",
       "      <td>NaN</td>\n",
       "      <td>NaN</td>\n",
       "      <td>NaN</td>\n",
       "      <td>1</td>\n",
       "      <td>0.455833</td>\n",
       "      <td>1</td>\n",
       "    </tr>\n",
       "    <tr>\n",
       "      <th>2</th>\n",
       "      <td>7301</td>\n",
       "      <td>2024-09-10 10:27:20</td>\n",
       "      <td>2024-09-10 13:13:54</td>\n",
       "      <td>[]</td>\n",
       "      <td>NaN</td>\n",
       "      <td>NaN</td>\n",
       "      <td>NaN</td>\n",
       "      <td>Resolves: https://github.com/audacity/audacity...</td>\n",
       "      <td>1</td>\n",
       "      <td>2.776111</td>\n",
       "      <td>2</td>\n",
       "    </tr>\n",
       "    <tr>\n",
       "      <th>3</th>\n",
       "      <td>7288</td>\n",
       "      <td>2024-09-09 13:13:46</td>\n",
       "      <td>2024-09-09 14:53:04</td>\n",
       "      <td>[]</td>\n",
       "      <td>NaN</td>\n",
       "      <td>NaN</td>\n",
       "      <td>NaN</td>\n",
       "      <td>NaN</td>\n",
       "      <td>1</td>\n",
       "      <td>1.655000</td>\n",
       "      <td>2</td>\n",
       "    </tr>\n",
       "    <tr>\n",
       "      <th>4</th>\n",
       "      <td>7295</td>\n",
       "      <td>2024-09-10 08:53:37</td>\n",
       "      <td>2024-09-10 09:58:23</td>\n",
       "      <td>[]</td>\n",
       "      <td>NaN</td>\n",
       "      <td>NaN</td>\n",
       "      <td>NaN</td>\n",
       "      <td>NaN</td>\n",
       "      <td>1</td>\n",
       "      <td>1.079444</td>\n",
       "      <td>2</td>\n",
       "    </tr>\n",
       "    <tr>\n",
       "      <th>...</th>\n",
       "      <td>...</td>\n",
       "      <td>...</td>\n",
       "      <td>...</td>\n",
       "      <td>...</td>\n",
       "      <td>...</td>\n",
       "      <td>...</td>\n",
       "      <td>...</td>\n",
       "      <td>...</td>\n",
       "      <td>...</td>\n",
       "      <td>...</td>\n",
       "      <td>...</td>\n",
       "    </tr>\n",
       "    <tr>\n",
       "      <th>2280</th>\n",
       "      <td>7973</td>\n",
       "      <td>2020-11-10 10:31:15</td>\n",
       "      <td>2020-11-10 15:15:31</td>\n",
       "      <td>['FancyZones-Editor', 'Area-Localization']</td>\n",
       "      <td>NaN</td>\n",
       "      <td>```suggestion\\r\\n    &lt;value&gt;Create new custom&lt;...</td>\n",
       "      <td>NaN</td>\n",
       "      <td>## Summary of the Pull Request\\r\\n\\r\\nLocalize...</td>\n",
       "      <td>3</td>\n",
       "      <td>4.737778</td>\n",
       "      <td>2</td>\n",
       "    </tr>\n",
       "    <tr>\n",
       "      <th>2281</th>\n",
       "      <td>7959</td>\n",
       "      <td>2020-11-09 17:04:13</td>\n",
       "      <td>2020-11-10 12:56:06</td>\n",
       "      <td>['Area-Runner', 'Area-Localization']</td>\n",
       "      <td>\\n#### New misspellings found, please review:\\...</td>\n",
       "      <td>```suggestion\\r\\n    &lt;value&gt;Exit&lt;/value&gt;\\r\\n  ...</td>\n",
       "      <td>NaN</td>\n",
       "      <td>## Summary of the Pull Request\\r\\nSince we can...</td>\n",
       "      <td>3</td>\n",
       "      <td>19.864722</td>\n",
       "      <td>2</td>\n",
       "    </tr>\n",
       "    <tr>\n",
       "      <th>2282</th>\n",
       "      <td>7946</td>\n",
       "      <td>2020-11-09 11:06:25</td>\n",
       "      <td>2020-11-10 16:51:40</td>\n",
       "      <td>['Area-Localization']</td>\n",
       "      <td>NaN</td>\n",
       "      <td>NaN</td>\n",
       "      <td>NaN</td>\n",
       "      <td>LEGO: Pull request from lego/hb_2939_202011091...</td>\n",
       "      <td>3</td>\n",
       "      <td>29.754167</td>\n",
       "      <td>3</td>\n",
       "    </tr>\n",
       "    <tr>\n",
       "      <th>2283</th>\n",
       "      <td>7964</td>\n",
       "      <td>2020-11-09 23:06:33</td>\n",
       "      <td>2020-11-10 00:30:35</td>\n",
       "      <td>[]</td>\n",
       "      <td>NaN</td>\n",
       "      <td>NaN</td>\n",
       "      <td>NaN</td>\n",
       "      <td>LEGO: Pull request from lego/hb_2939_202011092...</td>\n",
       "      <td>3</td>\n",
       "      <td>1.400556</td>\n",
       "      <td>2</td>\n",
       "    </tr>\n",
       "    <tr>\n",
       "      <th>2284</th>\n",
       "      <td>7962</td>\n",
       "      <td>2020-11-09 19:25:20</td>\n",
       "      <td>2020-11-09 23:35:21</td>\n",
       "      <td>[]</td>\n",
       "      <td>NaN</td>\n",
       "      <td>NaN</td>\n",
       "      <td>NaN</td>\n",
       "      <td>## Summary of the Pull Request\\r\\n\\r\\n@SimonCr...</td>\n",
       "      <td>3</td>\n",
       "      <td>4.166944</td>\n",
       "      <td>2</td>\n",
       "    </tr>\n",
       "  </tbody>\n",
       "</table>\n",
       "<p>6398 rows × 11 columns</p>\n",
       "</div>"
      ],
      "text/plain": [
       "      pr_number          created_at           merged_at  \\\n",
       "0          7308 2024-09-10 13:07:38 2024-09-10 13:49:46   \n",
       "1          7303 2024-09-10 12:15:27 2024-09-10 12:42:48   \n",
       "2          7301 2024-09-10 10:27:20 2024-09-10 13:13:54   \n",
       "3          7288 2024-09-09 13:13:46 2024-09-09 14:53:04   \n",
       "4          7295 2024-09-10 08:53:37 2024-09-10 09:58:23   \n",
       "...         ...                 ...                 ...   \n",
       "2280       7973 2020-11-10 10:31:15 2020-11-10 15:15:31   \n",
       "2281       7959 2020-11-09 17:04:13 2020-11-10 12:56:06   \n",
       "2282       7946 2020-11-09 11:06:25 2020-11-10 16:51:40   \n",
       "2283       7964 2020-11-09 23:06:33 2020-11-10 00:30:35   \n",
       "2284       7962 2020-11-09 19:25:20 2020-11-09 23:35:21   \n",
       "\n",
       "                                          labels  \\\n",
       "0                                             []   \n",
       "1                                             []   \n",
       "2                                             []   \n",
       "3                                             []   \n",
       "4                                             []   \n",
       "...                                          ...   \n",
       "2280  ['FancyZones-Editor', 'Area-Localization']   \n",
       "2281        ['Area-Runner', 'Area-Localization']   \n",
       "2282                       ['Area-Localization']   \n",
       "2283                                          []   \n",
       "2284                                          []   \n",
       "\n",
       "                                    issue_comments_text  \\\n",
       "0                                                   NaN   \n",
       "1                                                   NaN   \n",
       "2                                                   NaN   \n",
       "3                                                   NaN   \n",
       "4                                                   NaN   \n",
       "...                                                 ...   \n",
       "2280                                                NaN   \n",
       "2281  \\n#### New misspellings found, please review:\\...   \n",
       "2282                                                NaN   \n",
       "2283                                                NaN   \n",
       "2284                                                NaN   \n",
       "\n",
       "                                   review_comments_text reviews_text  \\\n",
       "0                                                   NaN          NaN   \n",
       "1                                                   NaN          NaN   \n",
       "2                                                   NaN          NaN   \n",
       "3                                                   NaN          NaN   \n",
       "4                                                   NaN          NaN   \n",
       "...                                                 ...          ...   \n",
       "2280  ```suggestion\\r\\n    <value>Create new custom<...          NaN   \n",
       "2281  ```suggestion\\r\\n    <value>Exit</value>\\r\\n  ...          NaN   \n",
       "2282                                                NaN          NaN   \n",
       "2283                                                NaN          NaN   \n",
       "2284                                                NaN          NaN   \n",
       "\n",
       "                                             issue_text  repo  \\\n",
       "0                                                   NaN     1   \n",
       "1                                                   NaN     1   \n",
       "2     Resolves: https://github.com/audacity/audacity...     1   \n",
       "3                                                   NaN     1   \n",
       "4                                                   NaN     1   \n",
       "...                                                 ...   ...   \n",
       "2280  ## Summary of the Pull Request\\r\\n\\r\\nLocalize...     3   \n",
       "2281  ## Summary of the Pull Request\\r\\nSince we can...     3   \n",
       "2282  LEGO: Pull request from lego/hb_2939_202011091...     3   \n",
       "2283  LEGO: Pull request from lego/hb_2939_202011092...     3   \n",
       "2284  ## Summary of the Pull Request\\r\\n\\r\\n@SimonCr...     3   \n",
       "\n",
       "      Issue_Lifetime(hours)  Issue Lifetime  \n",
       "0                  0.702222               1  \n",
       "1                  0.455833               1  \n",
       "2                  2.776111               2  \n",
       "3                  1.655000               2  \n",
       "4                  1.079444               2  \n",
       "...                     ...             ...  \n",
       "2280               4.737778               2  \n",
       "2281              19.864722               2  \n",
       "2282              29.754167               3  \n",
       "2283               1.400556               2  \n",
       "2284               4.166944               2  \n",
       "\n",
       "[6398 rows x 11 columns]"
      ]
     },
     "execution_count": 85,
     "metadata": {},
     "output_type": "execute_result"
    }
   ],
   "source": [
    "df"
   ]
  },
  {
   "cell_type": "code",
   "execution_count": 72,
   "metadata": {},
   "outputs": [],
   "source": [
    "#columns being used in this model\n",
    "columns = ['pr_number','created_at','merged_at','issue_comments_text','review_comments_text','reviews_text','issue_text', 'labels','repo']"
   ]
  },
  {
   "cell_type": "code",
   "execution_count": 73,
   "metadata": {},
   "outputs": [],
   "source": [
    "# if column is not in columns, drop it\n",
    "for column in df.columns:\n",
    "    if column not in columns:\n",
    "        df.drop(column, axis=1, inplace=True)"
   ]
  },
  {
   "cell_type": "code",
   "execution_count": 74,
   "metadata": {},
   "outputs": [
    {
     "data": {
      "text/plain": [
       "\"def remove_prefixes(labels):\\n    if pd.isna(labels):\\n        return labels\\n    prefixes = ['type:', 'scope:', 'platform:', 'status:', 'other:','[',']']\\n    for prefix in prefixes:\\n        labels = labels.replace(prefix, '')\\n    return labels\\n\\n# Apply the function to the 'Labels' column\\ndf['labels'] = df['labels'].apply(remove_prefixes)\""
      ]
     },
     "execution_count": 74,
     "metadata": {},
     "output_type": "execute_result"
    }
   ],
   "source": [
    "# Function to remove specific prefixes from labels\n",
    "'''def remove_prefixes(labels):\n",
    "    if pd.isna(labels):\n",
    "        return labels\n",
    "    prefixes = ['type:', 'scope:', 'platform:', 'status:', 'other:','[',']']\n",
    "    for prefix in prefixes:\n",
    "        labels = labels.replace(prefix, '')\n",
    "    return labels\n",
    "\n",
    "# Apply the function to the 'Labels' column\n",
    "df['labels'] = df['labels'].apply(remove_prefixes)'''\n",
    "\n"
   ]
  },
  {
   "cell_type": "markdown",
   "metadata": {},
   "source": [
    "## Calculating hours and assigning groups"
   ]
  },
  {
   "cell_type": "code",
   "execution_count": 75,
   "metadata": {},
   "outputs": [],
   "source": [
    "df['created_at'] = pd.to_datetime(df['created_at'], format='%Y-%m-%dT%H:%M:%SZ', errors='coerce')\n",
    "df['merged_at'] = pd.to_datetime(df['merged_at'], format='%Y-%m-%dT%H:%M:%SZ', errors='coerce')\n",
    "df['Issue_Lifetime(hours)'] = (df['merged_at'] - df['created_at']).dt.total_seconds() / 3600\n"
   ]
  },
  {
   "cell_type": "code",
   "execution_count": 83,
   "metadata": {},
   "outputs": [],
   "source": [
    "# Define the conditions for the 'Issue Lifetime' groups\n",
    "conditions = [\n",
    "    (df['Issue_Lifetime(hours)'] < 1),  # less than 6 hours - group 1\n",
    "    (df['Issue_Lifetime(hours)'] >= 1) & (df['Issue_Lifetime(hours)'] < 24), # between 6 hours and 2 days - group 2\n",
    "    (df['Issue_Lifetime(hours)'] >= 24) & (df['Issue_Lifetime(hours)'] < 168),  # between 2 days and a month - group 3\n",
    "    (df['Issue_Lifetime(hours)'] >= 168) & (df['Issue_Lifetime(hours)'] < 720), # between a week and a month - group 4\n",
    "    (df['Issue_Lifetime(hours)'] >= 720)  # more than a month - group 5\n",
    "]\n",
    "\n",
    "# Define the corresponding group numbers\n",
    "groups = [1, 2, 3, 4, 5]\n",
    "group_dict={\n",
    "    1: 'Less than 1 hour',\n",
    "    2: 'Between 1 hours and 1 day',\n",
    "    3: 'Between 1 day and a week',\n",
    "    4: 'Between a week and a month',\n",
    "    5: 'More than a month'\n",
    "}\n",
    "\n",
    "# Create the 'Issue Lifetime' column using np.select\n",
    "df['Issue Lifetime'] = np.select(conditions, groups)"
   ]
  },
  {
   "cell_type": "code",
   "execution_count": 77,
   "metadata": {},
   "outputs": [
    {
     "ename": "SyntaxError",
     "evalue": "'break' outside loop (370545404.py, line 1)",
     "output_type": "error",
     "traceback": [
      "\u001b[0;36m  Cell \u001b[0;32mIn[77], line 1\u001b[0;36m\u001b[0m\n\u001b[0;31m    break\u001b[0m\n\u001b[0m    ^\u001b[0m\n\u001b[0;31mSyntaxError\u001b[0m\u001b[0;31m:\u001b[0m 'break' outside loop\n"
     ]
    }
   ],
   "source": [
    "break\n"
   ]
  },
  {
   "cell_type": "markdown",
   "metadata": {},
   "source": [
    "## Graphing the distribution"
   ]
  },
  {
   "cell_type": "code",
   "execution_count": 84,
   "metadata": {},
   "outputs": [
    {
     "data": {
      "image/png": "[encoded data removed]",
      "text/plain": [
       "<Figure size 1000x600 with 1 Axes>"
      ]
     },
     "metadata": {},
     "output_type": "display_data"
    }
   ],
   "source": [
    "# Graphing the distribution of the groups\n",
    "group_counts = df['Issue Lifetime'].value_counts().sort_index()\n",
    "\n",
    "plt.figure(figsize=(10, 6))\n",
    "plt.bar(group_counts.index, group_counts.values, tick_label=['<1 hour','1 hours - 1 day', '1 day - 1 week','1 week - 1 month', '>1 month'])\n",
    "plt.title('Distribution of Issue Lifetime Groups')\n",
    "plt.xlabel('Issue Lifetime Groups')\n",
    "plt.ylabel('Frequency')\n",
    "plt.grid(True, axis='y')\n",
    "plt.show()"
   ]
  },
  {
   "cell_type": "code",
   "execution_count": 53,
   "metadata": {},
   "outputs": [],
   "source": [
    "# Drop the numerical columns\n",
    "drop_columns = ['pr_number','created_at','merged_at','Issue_Lifetime(hours)']\n",
    "\n",
    "df.drop(drop_columns, axis=1, inplace=True)"
   ]
  },
  {
   "cell_type": "code",
   "execution_count": 54,
   "metadata": {},
   "outputs": [],
   "source": [
    "#pip install pandas emoji openai tiktoken sklearn"
   ]
  },
  {
   "cell_type": "markdown",
   "metadata": {},
   "source": [
    "## Cleaning the data"
   ]
  },
  {
   "cell_type": "code",
   "execution_count": 55,
   "metadata": {},
   "outputs": [],
   "source": [
    "# Importing libraries\n",
    "import pandas as pd\n",
    "#import emoji\n",
    "import re\n",
    "import string\n",
    "import json\n",
    "import openai\n",
    "import sklearn"
   ]
  },
  {
   "cell_type": "code",
   "execution_count": 56,
   "metadata": {},
   "outputs": [],
   "source": [
    "# Initialize counters for text cleaning\n",
    "cleaned_count = 0\n",
    "original_count = 0\n",
    "\n",
    "# Text cleaning function\n",
    "def clean_text(text):\n",
    "    global cleaned_count, original_count\n",
    "\n",
    "    if not isinstance(text, str):\n",
    "        original_count += 1\n",
    "        return text\n",
    "\n",
    "    # Remove double quotation marks\n",
    "    text = text.replace('\"', '')\n",
    "\n",
    "    # Remove text starting with \"DevTools\" and ending with \"(automated)\"\n",
    "    text = re.sub(r'DevTools.*?\\(automated\\)', '', text)\n",
    "\n",
    "    # Lowercasing should be one of the first steps to ensure uniformity\n",
    "    text = text.lower()\n",
    "\n",
    "    # Remove emojis\n",
    "    #text = emoji.demojize(text)\n",
    "\n",
    "    # Remove URLs\n",
    "    text = re.sub(r'https?://\\S+|www\\.\\S+', '', text)\n",
    "\n",
    "    # Remove HTML tags\n",
    "    text = re.sub(r'<.*?>', '', text)\n",
    "\n",
    "    # Remove special characters and punctuation\n",
    "    text = re.sub(f\"[{re.escape(string.punctuation)}]\", '', text)\n",
    "\n",
    "    # Remove '#' characters\n",
    "    text = text.replace(\"#\", \"\")\n",
    "\n",
    "    # Remove consecutive whitespaces and replace with a single space\n",
    "    text = re.sub(r'\\s+', ' ', text)\n",
    "\n",
    "    # Split the text into words\n",
    "    words = text.split()\n",
    "\n",
    "    # Remove words that are over 20 characters\n",
    "    words = [word for word in words if len(word) <= 20]\n",
    "\n",
    "    # Join the remaining words back into cleaned text\n",
    "    cleaned_text = ' '.join(words)\n",
    "\n",
    "    cleaned_count += 1\n",
    "    return cleaned_text\n",
    "\n",
    "df['labels'] = df['labels'].apply(clean_text)\n",
    "df['issue_comments_text'] = df['issue_comments_text'].apply(clean_text)\n",
    "df['review_comments_text'] = df['review_comments_text'].apply(clean_text)\n",
    "df['reviews_text'] = df['reviews_text'].apply(clean_text)\n",
    "df['issue_text'] = df['issue_text'].apply(clean_text)"
   ]
  },
  {
   "cell_type": "code",
   "execution_count": 57,
   "metadata": {},
   "outputs": [],
   "source": [
    "# features is  dataframe without Issue Lifetime\n",
    "features = df.drop('Issue Lifetime', axis=1)\n",
    "target = df['Issue Lifetime']"
   ]
  },
  {
   "cell_type": "markdown",
   "metadata": {},
   "source": [
    "## Split the data"
   ]
  },
  {
   "cell_type": "code",
   "execution_count": 58,
   "metadata": {},
   "outputs": [],
   "source": [
    "# Split the data into training and testing sets\n",
    "X_train, X_test, y_train, y_test = train_test_split(features, target, test_size=0.2, random_state=42)\n",
    "df_train = pd.concat([X_train, y_train], axis=1)\n",
    "df_test = pd.concat([X_test, y_test], axis=1)"
   ]
  },
  {
   "cell_type": "code",
   "execution_count": 59,
   "metadata": {},
   "outputs": [],
   "source": [
    "# Open the file in write mode\n",
    "with open('/Users/atu/Documents/TTS/text_issue_lifetime_data.jsonl', 'w', encoding='utf-8') as f:\n",
    "    # Iterate over the rows in the DataFrame\n",
    "    for index, row in df_train.iterrows():\n",
    "        # Create the user message by formatting the prompt with the valuea frome each column for each row\n",
    "        user_message = f\"Classify, using ONLY 1 NUMBER between 1 and 5, the following GitHub issue, where 1 is 'Less than 1 hour', 2 is 'Between 1 hours and 1 day', 3 is 'Between 1 day and a week', and 4 is 'Between 1 week and 1 month' and 5 is 'More than a month', based on its features: - Labels: {row['labels']}\\n  - Issue Text: {row['issue_text']}\\n - Issue Comments: {row['issue_comments_text']}\\n - Review Comments: {row['review_comments_text']}\\n - Reviews: {row['reviews_text']}\\n- Repo: {row['repo']}\\n\"\n",
    "        \n",
    "        # Create the assistant message by taking the label\n",
    "        assistant_message = str(row['Issue Lifetime'])\n",
    "        \n",
    "        # Construct the conversation object\n",
    "        conversation_object = {\n",
    "            \"messages\": [\n",
    "                {\"role\": \"system\", \"content\": \"GitHub Issue Lifetime Classifier\"},\n",
    "                {\"role\": \"user\", \"content\": user_message},\n",
    "                {\"role\": \"assistant\", \"content\": assistant_message}\n",
    "            ]\n",
    "        }\n",
    "        \n",
    "        # Write the conversation object to one line in the file\n",
    "        f.write(json.dumps(conversation_object, ensure_ascii=False) + '\\n')"
   ]
  },
  {
   "cell_type": "code",
   "execution_count": 60,
   "metadata": {},
   "outputs": [],
   "source": [
    "# Invoking the API\n",
    "from openai import OpenAI\n",
    "client = OpenAI(api_key = 'open_ai_key')\n"
   ]
  },
  {
   "cell_type": "markdown",
   "metadata": {},
   "source": [
    "### Training from the file ##"
   ]
  },
  {
   "cell_type": "code",
   "execution_count": 61,
   "metadata": {},
   "outputs": [
    {
     "data": {
      "text/plain": [
       "'ft_file = client.files.create(\\n  file=open(\"/Users/atu/Documents/TTS/text_issue_lifetime_data.jsonl\", \"rb\"),\\n  purpose=\"fine-tune\"\\n)\\nft_file '"
      ]
     },
     "execution_count": 61,
     "metadata": {},
     "output_type": "execute_result"
    }
   ],
   "source": [
    "## Uplopading a training file\n",
    "'''ft_file = client.files.create(\n",
    "  file=open(\"/Users/atu/Documents/TTS/text_issue_lifetime_data.jsonl\", \"rb\"),\n",
    "  purpose=\"fine-tune\"\n",
    ")\n",
    "ft_file '''"
   ]
  },
  {
   "cell_type": "code",
   "execution_count": 62,
   "metadata": {},
   "outputs": [
    {
     "data": {
      "text/plain": [
       "'ft_job = client.fine_tuning.jobs.create(\\n  training_file=ft_file.id, \\n  model=\"gpt-4o-mini-2024-07-18\",\\n  suffix= \"issueLifetime\"\\n)\\nft_job'"
      ]
     },
     "execution_count": 62,
     "metadata": {},
     "output_type": "execute_result"
    }
   ],
   "source": [
    "## Creating a fine-tuned model\n",
    "'''ft_job = client.fine_tuning.jobs.create(\n",
    "  training_file=ft_file.id, \n",
    "  model=\"gpt-4o-mini-2024-07-18\",\n",
    "  suffix= \"issueLifetime\"\n",
    ")\n",
    "ft_job'''\n"
   ]
  },
  {
   "cell_type": "code",
   "execution_count": 63,
   "metadata": {},
   "outputs": [
    {
     "name": "stdout",
     "output_type": "stream",
     "text": [
      "Fine-tuned model ID: ft:gpt-4o-mini-2024-07-18:northern-arizona-university-nau:issuelifetime:ADPolCKc\n"
     ]
    }
   ],
   "source": [
    "# Check the status of the fine-tuning job\n",
    "fine_tuning_job_id = 'ftjob-QQ2h8Hozq7mmd1dCO6hwWYvH'\n",
    "\n",
    "job_status = client.fine_tuning.jobs.retrieve(fine_tuning_job_id)\n",
    "\n",
    "if job_status.status == 'succeeded':\n",
    "    fine_tuned_model = job_status.fine_tuned_model\n",
    "    print(\"Fine-tuned model ID:\", fine_tuned_model)\n",
    "elif job_status.status == 'failed':\n",
    "    print(\"Fine-tuning job has failed.\")\n",
    "else:\n",
    "    print(\"Fine-tuning job has not completed yet.\") "
   ]
  },
  {
   "cell_type": "code",
   "execution_count": 64,
   "metadata": {},
   "outputs": [],
   "source": [
    "# Retrieving the state of a fine-tune\n",
    "fine_tuning_job_id = 'ftjob-QQ2h8Hozq7mmd1dCO6hwWYvH'\n",
    "\n",
    "job_status = client.fine_tuning.jobs.retrieve(fine_tuning_job_id)\n",
    "\n",
    "tts_ft_model = client.fine_tuning.jobs.retrieve(fine_tuning_job_id).fine_tuned_model\n",
    "#print(tts_ft_model)"
   ]
  },
  {
   "cell_type": "code",
   "execution_count": 65,
   "metadata": {},
   "outputs": [
    {
     "data": {
      "text/plain": [
       "SyncCursorPage[FineTuningJobEvent](data=[FineTuningJobEvent(id='ftevent-mlrevuHkGRpEb10IybFXNQm0', created_at=1727760877, level='info', message='The job has successfully completed', object='fine_tuning.job.event', data={}, type='message'), FineTuningJobEvent(id='ftevent-8kRWp0QPhiYeRn2nAMnlBhcm', created_at=1727760872, level='info', message='New fine-tuned model created', object='fine_tuning.job.event', data={}, type='message'), FineTuningJobEvent(id='ftevent-K7Q8x1rwMCCwFvBTGujrI3Wu', created_at=1727760872, level='info', message='Checkpoint created at step 1533', object='fine_tuning.job.event', data={}, type='message'), FineTuningJobEvent(id='ftevent-XrUPo174ziQNZPq5m6fTFymM', created_at=1727760872, level='info', message='Checkpoint created at step 1022', object='fine_tuning.job.event', data={}, type='message'), FineTuningJobEvent(id='ftevent-0TbIfAEM5IxbtDCdArbJq3BP', created_at=1727760866, level='info', message='Step 1536/1536: training loss=0.19', object='fine_tuning.job.event', data={'step': 1536, 'train_loss': 0.19060277938842773, 'total_steps': 1536, 'train_mean_token_accuracy': 1.0}, type='metrics'), FineTuningJobEvent(id='ftevent-fyihgg0YGYwYu9QsTnOmsN1I', created_at=1727760864, level='info', message='Step 1535/1536: training loss=0.46', object='fine_tuning.job.event', data={'step': 1535, 'train_loss': 0.462603896856308, 'total_steps': 1536, 'train_mean_token_accuracy': 0.800000011920929}, type='metrics'), FineTuningJobEvent(id='ftevent-RJPRzhK4JlFd9y9iajYYTOl6', created_at=1727760864, level='info', message='Step 1534/1536: training loss=0.23', object='fine_tuning.job.event', data={'step': 1534, 'train_loss': 0.23337821662425995, 'total_steps': 1536, 'train_mean_token_accuracy': 0.8666666746139526}, type='metrics'), FineTuningJobEvent(id='ftevent-edPun9naenXL5oHLLlF9Wley', created_at=1727760864, level='info', message='Step 1533/1536: training loss=0.31', object='fine_tuning.job.event', data={'step': 1533, 'train_loss': 0.3132132887840271, 'total_steps': 1536, 'train_mean_token_accuracy': 0.8333333134651184}, type='metrics'), FineTuningJobEvent(id='ftevent-MwM1zZhfHQkHucYWS9pgiMCb', created_at=1727760848, level='info', message='Step 1532/1536: training loss=0.31', object='fine_tuning.job.event', data={'step': 1532, 'train_loss': 0.31199517846107483, 'total_steps': 1536, 'train_mean_token_accuracy': 0.8333333134651184}, type='metrics'), FineTuningJobEvent(id='ftevent-723cInfz8KA4fN7id4wvATwG', created_at=1727760846, level='info', message='Step 1531/1536: training loss=0.44', object='fine_tuning.job.event', data={'step': 1531, 'train_loss': 0.4410771131515503, 'total_steps': 1536, 'train_mean_token_accuracy': 0.8666666746139526}, type='metrics'), FineTuningJobEvent(id='ftevent-bGkzl16fOkR5hEigjs6swCcC', created_at=1727760846, level='info', message='Step 1530/1536: training loss=0.34', object='fine_tuning.job.event', data={'step': 1530, 'train_loss': 0.34414947032928467, 'total_steps': 1536, 'train_mean_token_accuracy': 0.8333333134651184}, type='metrics'), FineTuningJobEvent(id='ftevent-2uiBMzYEIpbA54wbExz4y5wM', created_at=1727760845, level='info', message='Step 1529/1536: training loss=0.23', object='fine_tuning.job.event', data={'step': 1529, 'train_loss': 0.2320515364408493, 'total_steps': 1536, 'train_mean_token_accuracy': 0.9333333373069763}, type='metrics'), FineTuningJobEvent(id='ftevent-7YT24NBjjVPzpnqxZhNDZBSC', created_at=1727760843, level='info', message='Step 1528/1536: training loss=0.26', object='fine_tuning.job.event', data={'step': 1528, 'train_loss': 0.25560373067855835, 'total_steps': 1536, 'train_mean_token_accuracy': 0.8999999761581421}, type='metrics'), FineTuningJobEvent(id='ftevent-kHPTE5WmLux1ZYiNyqL9LJcN', created_at=1727760843, level='info', message='Step 1527/1536: training loss=0.29', object='fine_tuning.job.event', data={'step': 1527, 'train_loss': 0.2941358685493469, 'total_steps': 1536, 'train_mean_token_accuracy': 0.8666666746139526}, type='metrics'), FineTuningJobEvent(id='ftevent-FNw4ISpMotvjdRcr8QugKIFo', created_at=1727760841, level='info', message='Step 1526/1536: training loss=0.44', object='fine_tuning.job.event', data={'step': 1526, 'train_loss': 0.43622124195098877, 'total_steps': 1536, 'train_mean_token_accuracy': 0.9333333373069763}, type='metrics'), FineTuningJobEvent(id='ftevent-KoThctUvV29V9zW1h4EagCTw', created_at=1727760841, level='info', message='Step 1525/1536: training loss=0.28', object='fine_tuning.job.event', data={'step': 1525, 'train_loss': 0.281332403421402, 'total_steps': 1536, 'train_mean_token_accuracy': 0.8666666746139526}, type='metrics'), FineTuningJobEvent(id='ftevent-rN7KlqEhgVGkn2nUndlYs01G', created_at=1727760841, level='info', message='Step 1524/1536: training loss=0.31', object='fine_tuning.job.event', data={'step': 1524, 'train_loss': 0.30672332644462585, 'total_steps': 1536, 'train_mean_token_accuracy': 0.800000011920929}, type='metrics'), FineTuningJobEvent(id='ftevent-pcdOPyurJOLBVNZcYKjkKlyw', created_at=1727760839, level='info', message='Step 1523/1536: training loss=0.34', object='fine_tuning.job.event', data={'step': 1523, 'train_loss': 0.34405726194381714, 'total_steps': 1536, 'train_mean_token_accuracy': 0.8333333134651184}, type='metrics'), FineTuningJobEvent(id='ftevent-gTJN93hZXvNNK2DhsoDwJxOr', created_at=1727760839, level='info', message='Step 1522/1536: training loss=0.25', object='fine_tuning.job.event', data={'step': 1522, 'train_loss': 0.2461348921060562, 'total_steps': 1536, 'train_mean_token_accuracy': 0.8333333134651184}, type='metrics'), FineTuningJobEvent(id='ftevent-1RkyzK8vUU9OxyOlNYExq3Xd', created_at=1727760838, level='info', message='Step 1521/1536: training loss=0.24', object='fine_tuning.job.event', data={'step': 1521, 'train_loss': 0.2386203110218048, 'total_steps': 1536, 'train_mean_token_accuracy': 0.8999999761581421}, type='metrics')], object='list', has_more=True)"
      ]
     },
     "execution_count": 65,
     "metadata": {},
     "output_type": "execute_result"
    }
   ],
   "source": [
    "client.fine_tuning.jobs.list_events(fine_tuning_job_id=fine_tuning_job_id, limit=20)\n"
   ]
  },
  {
   "cell_type": "markdown",
   "metadata": {},
   "source": [
    "## Utilising Fine Tuned Model ##"
   ]
  },
  {
   "cell_type": "code",
   "execution_count": 66,
   "metadata": {},
   "outputs": [],
   "source": [
    "import openai\n",
    "import time\n",
    "import pandas as pd\n",
    "import concurrent.futures\n",
    "import tiktoken\n",
    "from sklearn.metrics import f1_score, precision_score, recall_score, confusion_matrix, classification_report\n",
    "\n",
    "\n",
    "openai.api_key ='open_ai_key'"
   ]
  },
  {
   "cell_type": "code",
   "execution_count": 67,
   "metadata": {},
   "outputs": [],
   "source": [
    "# max_token here should be one since the class (1,2,3,4) is one token long. \n",
    "def query_chatgpt(prompt, model, temperature=0.0,  max_tokens=1, max_retries=5):\n",
    "    \"\"\"\n",
    "    Function to query ChatGPT-4 with a given prompt, with retries for timeouts.\n",
    "\n",
    "    :param prompt: Prompt string to send to ChatGPT-2.5\n",
    "    :param model: The model to use, default is ChatGPT-3.5\n",
    "    :param max_tokens: Maximum number of tokens to generate\n",
    "    :param max_retries: Maximum number of retries for timeout\n",
    "    :return: Response from ChatGPT-3.5 or None if all retries fail\n",
    "    \"\"\"\n",
    "    attempt = 0\n",
    "    max_content_tokens = 3999\n",
    "    encoding = tiktoken.get_encoding(\"cl100k_base\")\n",
    "    encoding = tiktoken.encoding_for_model(\"gpt-4o-mini-2024-07-18\")\n",
    "\n",
    "    # Function to truncate the message and avoid passing the limit of 4k tokens per gpt-3.5 fine-tuned model limitations\n",
    "    def truncate_message(message, max_length):\n",
    "        tokens = encoding.encode(message)\n",
    "        if len(tokens) > max_length:\n",
    "            truncated_tokens = tokens[:max_length]\n",
    "            message = encoding.decode(truncated_tokens)\n",
    "        return message\n",
    "\n",
    "    # Truncate the prompt if necessary\n",
    "    prompt = truncate_message(prompt, max_content_tokens)\n",
    "\n",
    "    while attempt < max_retries:\n",
    "        with concurrent.futures.ThreadPoolExecutor() as executor:\n",
    "            future = executor.submit(\n",
    "                openai.chat.completions.create,\n",
    "                model=model,\n",
    "                messages=[{\"role\": \"system\", \"content\": \"GitHub Issue Lifetime Classifier\"}, {\"role\": \"user\", \"content\": prompt}],\n",
    "                max_tokens=max_tokens,\n",
    "                temperature=temperature\n",
    "            )\n",
    "            try:\n",
    "                response = future.result(timeout=5)  # 5 seconds timeout\n",
    "                return response.choices[0].message.content\n",
    "            except concurrent.futures.TimeoutError:\n",
    "                print(f\"Attempt {attempt + 1}/{max_retries} - Request timed out. Retrying...\")\n",
    "            except Exception as e:\n",
    "                print(f\"Attempt {attempt + 1}/{max_retries} - An error occurred: {e}\")\n",
    "            finally:\n",
    "                attempt += 1\n",
    "\n",
    "    print(\"Failed to get a response after several retries.\")\n",
    "    return None\n",
    "    \n",
    "labels =[ 1, 2, 3, 4, 5]"
   ]
  },
  {
   "cell_type": "code",
   "execution_count": 68,
   "metadata": {},
   "outputs": [
    {
     "name": "stdout",
     "output_type": "stream",
     "text": [
      "Correct PR type: 1\n",
      "Predicted PR Lifetime: 2\n",
      "Correct PR type: 2\n",
      "Predicted PR Lifetime: 2\n",
      "Correct PR type: 2\n",
      "Predicted PR Lifetime: 2\n",
      "Correct PR type: 1\n",
      "Predicted PR Lifetime: 2\n",
      "Correct PR type: 3\n",
      "Predicted PR Lifetime: 2\n",
      "Correct PR type: 4\n",
      "Predicted PR Lifetime: 3\n",
      "Correct PR type: 3\n",
      "Predicted PR Lifetime: 2\n",
      "Correct PR type: 3\n",
      "Predicted PR Lifetime: 3\n",
      "Correct PR type: 1\n",
      "Predicted PR Lifetime: 2\n",
      "Correct PR type: 4\n",
      "Predicted PR Lifetime: 2\n",
      "Correct PR type: 1\n",
      "Predicted PR Lifetime: 3\n",
      "Correct PR type: 3\n",
      "Predicted PR Lifetime: 2\n",
      "Correct PR type: 1\n",
      "Predicted PR Lifetime: 2\n",
      "Correct PR type: 4\n",
      "Predicted PR Lifetime: 4\n"
     ]
    },
    {
     "ename": "KeyboardInterrupt",
     "evalue": "",
     "output_type": "error",
     "traceback": [
      "\u001b[0;31m---------------------------------------------------------------------------\u001b[0m",
      "\u001b[0;31mKeyboardInterrupt\u001b[0m                         Traceback (most recent call last)",
      "Cell \u001b[0;32mIn[68], line 32\u001b[0m\n\u001b[1;32m     30\u001b[0m y_true\u001b[38;5;241m.\u001b[39mappend(correct_label)\n\u001b[1;32m     31\u001b[0m y_pred\u001b[38;5;241m.\u001b[39mappend(predicted_label)\n\u001b[0;32m---> 32\u001b[0m \u001b[43mtime\u001b[49m\u001b[38;5;241;43m.\u001b[39;49m\u001b[43msleep\u001b[49m\u001b[43m(\u001b[49m\u001b[38;5;241;43m3\u001b[39;49m\u001b[43m)\u001b[49m  \u001b[38;5;66;03m# Wait for 3 seconds before retrying\u001b[39;00m\n",
      "\u001b[0;31mKeyboardInterrupt\u001b[0m: "
     ]
    }
   ],
   "source": [
    "y_true = []\n",
    "y_pred = []\n",
    "\n",
    "iterations = len(df_test)\n",
    "lifetime = df_test['Issue Lifetime']\n",
    "predictors = df_test.drop('Issue Lifetime', axis=1)\n",
    "\n",
    "\n",
    "\n",
    "# Now let's loop through the test data and classify the GitHub issues\n",
    "for i, row in df_test.iterrows():\n",
    "    correct_label = int(row['Issue Lifetime'])  # Access the correct label directly from the row\n",
    "    description = row.drop('Issue Lifetime').to_string()  # Get the row data as a string\n",
    "    #description = f\"{test_data_facebook.iloc[i]['title']} \\n {test_data_facebook.iloc[i]['body']}\"\n",
    "    print(f\"Correct PR type: {correct_label}\")\n",
    "    \n",
    "    prompt = f\"Classify, using ONLY 1 NUMBER between 1 and 5, the following GitHub issue, where 1 is 'Less than 1 hour', 2 is 'Between 1 hours and 1 day', 3 is 'Between 1 day and a week', and 4 is 'Between 1 week and 1 month' and 5 is 'More than a month', based on its features: - Labels: {row['labels']}\\n  - Issue Text: {row['issue_text']}\\n - Issue Comments: {row['issue_comments_text']}\\n - Review Comments: {row['review_comments_text']}\\n - Reviews: {row['reviews_text']}\\n- Repo: {row['repo']}\\n\"\n",
    "\n",
    "    response = query_chatgpt(prompt, tts_ft_model)\n",
    "    \n",
    "    if response is None:\n",
    "        print(\"Failed to get a response after several retries. Skipping this item.\")\n",
    "        continue  # Skip this iteration and move to the next one\n",
    "    \n",
    "    # Clean the response to keep only letters (and optionally numbers)\n",
    "    predicted_label = int(response)\n",
    "    print(f\"Predicted PR Lifetime: {predicted_label}\")\n",
    "    \n",
    "    # Append to lists for evaluation\n",
    "    y_true.append(correct_label)\n",
    "    y_pred.append(predicted_label)\n",
    "    time.sleep(3)  # Wait for 3 seconds before retrying"
   ]
  },
  {
   "cell_type": "code",
   "execution_count": 40,
   "metadata": {},
   "outputs": [
    {
     "name": "stdout",
     "output_type": "stream",
     "text": [
      "1: {'TP': np.int64(112), 'FP': np.int64(61), 'FN': np.int64(117), 'TN': np.int64(990)}\n",
      "2: {'TP': np.int64(343), 'FP': np.int64(306), 'FN': np.int64(135), 'TN': np.int64(496)}\n",
      "3: {'TP': np.int64(169), 'FP': np.int64(165), 'FN': np.int64(199), 'TN': np.int64(747)}\n",
      "4: {'TP': np.int64(53), 'FP': np.int64(61), 'FN': np.int64(94), 'TN': np.int64(1072)}\n",
      "5: {'TP': np.int64(7), 'FP': np.int64(3), 'FN': np.int64(51), 'TN': np.int64(1219)}\n",
      "Precision = 0.5437700087106745\n",
      "Recall = 0.534375\n",
      "F1-score = 0.5213953303671425\n"
     ]
    }
   ],
   "source": [
    "# Calculate weighted average F1-score, precision, and recall\n",
    "f1 = f1_score(y_true, y_pred, labels=labels, average='weighted')\n",
    "precision = precision_score(y_true, y_pred, labels=labels, average='weighted')\n",
    "recall = recall_score(y_true, y_pred, labels=labels, average='weighted')\n",
    "\n",
    "# Calculate confusion matrix\n",
    "cm = confusion_matrix(y_true, y_pred, labels=labels)\n",
    "\n",
    "cm_df = pd.DataFrame(cm, index=labels, columns=labels)\n",
    "\n",
    "# Calculate TP, FP, FN, TN\n",
    "results = {}\n",
    "for i, label in enumerate(labels):\n",
    "    results[label] = {'TP': cm[i, i]}\n",
    "    results[label]['FP'] = cm[:, i].sum() - cm[i, i]\n",
    "    results[label]['FN'] = cm[i, :].sum() - cm[i, i]\n",
    "    results[label]['TN'] = cm.sum() - (results[label]['TP'] + results[label]['FP'] + results[label]['FN'])\n",
    "\n",
    "# Print results_fb\n",
    "for label, metrics in results.items():\n",
    "    print(f\"{label}: {metrics}\")\n",
    "\n",
    "# Save results_fb to CSV\n",
    "results_df = pd.DataFrame(results).T\n",
    "results_df['F1-score'] = f1\n",
    "results_df['Recall'] = recall\n",
    "results_df['Precision'] = precision\n",
    "\n",
    "results_df.to_csv('confusion_matrix.csv')\n",
    "\n",
    "print(f\"Precision = {precision}\")\n",
    "print(f\"Recall = {recall}\")\n",
    "print(f\"F1-score = {f1}\")"
   ]
  },
  {
   "cell_type": "code",
   "execution_count": 41,
   "metadata": {},
   "outputs": [
    {
     "name": "stdout",
     "output_type": "stream",
     "text": [
      "Accuracy = 0.534375\n"
     ]
    }
   ],
   "source": [
    "#accuracy\n",
    "accuracy = accuracy_score(y_true, y_pred)\n",
    "print(f\"Accuracy = {accuracy}\")"
   ]
  }
 ],
 "metadata": {
  "kernelspec": {
   "display_name": "myenv",
   "language": "python",
   "name": "python3"
  },
  "language_info": {
   "codemirror_mode": {
    "name": "ipython",
    "version": 3
   },
   "file_extension": ".py",
   "mimetype": "text/x-python",
   "name": "python",
   "nbconvert_exporter": "python",
   "pygments_lexer": "ipython3",
   "version": "3.12.6"
  }
 },
 "nbformat": 4,
 "nbformat_minor": 2
}
